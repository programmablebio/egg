{
 "cells": [
  {
   "cell_type": "code",
   "execution_count": 5,
   "metadata": {},
   "outputs": [
    {
     "ename": "ERROR",
     "evalue": "Error in library(\"DESeq2\"): there is no package called ‘DESeq2’\n",
     "output_type": "error",
     "traceback": [
      "Error in library(\"DESeq2\"): there is no package called ‘DESeq2’\nTraceback:\n",
      "1. library(\"DESeq2\")"
     ]
    }
   ],
   "source": [
    "library(\"DESeq2\")\n",
    "library(ggplot2)"
   ]
  },
  {
   "cell_type": "code",
   "execution_count": 7,
   "metadata": {},
   "outputs": [
    {
     "name": "stderr",
     "output_type": "stream",
     "text": [
      "'getOption(\"repos\")' replaces Bioconductor standard repositories, see\n",
      "'?repositories' for details\n",
      "\n",
      "replacement repositories:\n",
      "    CRAN: https://cran.r-project.org\n",
      "\n",
      "\n",
      "Bioconductor version 3.10 (BiocManager 1.30.16), R 3.6.1 (2019-07-05)\n",
      "\n",
      "Installing package(s) 'DESeq2'\n",
      "\n",
      "Warning message in .inet_warning(msg):\n",
      "“dependency ‘locfit’ is not available”\n",
      "also installing the dependencies ‘bitops’, ‘RCurl’, ‘zlibbioc’, ‘matrixStats’, ‘png’, ‘jpeg’, ‘checkmate’, ‘GenomeInfoDb’, ‘XVector’, ‘DelayedArray’, ‘AnnotationDbi’, ‘annotate’, ‘survival’, ‘latticeExtra’, ‘htmlTable’, ‘S4Vectors’, ‘IRanges’, ‘GenomicRanges’, ‘SummarizedExperiment’, ‘Biobase’, ‘BiocParallel’, ‘genefilter’, ‘geneplotter’, ‘Hmisc’\n",
      "\n",
      "\n",
      "Warning message in .inet_warning(msg):\n",
      "“installation of package ‘bitops’ had non-zero exit status”\n",
      "Warning message in .inet_warning(msg):\n",
      "“installation of package ‘zlibbioc’ had non-zero exit status”\n",
      "Warning message in .inet_warning(msg):\n",
      "“installation of package ‘matrixStats’ had non-zero exit status”\n",
      "Warning message in .inet_warning(msg):\n",
      "“installation of package ‘png’ had non-zero exit status”\n",
      "Warning message in .inet_warning(msg):\n",
      "“installation of package ‘jpeg’ had non-zero exit status”\n",
      "Warning message in .inet_warning(msg):\n",
      "“installation of package ‘checkmate’ had non-zero exit status”\n",
      "Warning message in .inet_warning(msg):\n",
      "“installation of package ‘survival’ had non-zero exit status”\n",
      "Warning message in .inet_warning(msg):\n",
      "“installation of package ‘S4Vectors’ had non-zero exit status”\n",
      "Warning message in .inet_warning(msg):\n",
      "“installation of package ‘Biobase’ had non-zero exit status”\n",
      "Warning message in .inet_warning(msg):\n",
      "“installation of package ‘BiocParallel’ had non-zero exit status”\n",
      "Warning message in .inet_warning(msg):\n",
      "“installation of package ‘RCurl’ had non-zero exit status”\n",
      "Warning message in .inet_warning(msg):\n",
      "“installation of package ‘latticeExtra’ had non-zero exit status”\n",
      "Warning message in .inet_warning(msg):\n",
      "“installation of package ‘htmlTable’ had non-zero exit status”\n",
      "Warning message in .inet_warning(msg):\n",
      "“installation of package ‘IRanges’ had non-zero exit status”\n",
      "Warning message in .inet_warning(msg):\n",
      "“installation of package ‘GenomeInfoDb’ had non-zero exit status”\n",
      "Warning message in .inet_warning(msg):\n",
      "“installation of package ‘XVector’ had non-zero exit status”\n",
      "Warning message in .inet_warning(msg):\n",
      "“installation of package ‘DelayedArray’ had non-zero exit status”\n",
      "Warning message in .inet_warning(msg):\n",
      "“installation of package ‘AnnotationDbi’ had non-zero exit status”\n",
      "Warning message in .inet_warning(msg):\n",
      "“installation of package ‘Hmisc’ had non-zero exit status”\n",
      "Warning message in .inet_warning(msg):\n",
      "“installation of package ‘annotate’ had non-zero exit status”\n",
      "Warning message in .inet_warning(msg):\n",
      "“installation of package ‘GenomicRanges’ had non-zero exit status”\n",
      "Warning message in .inet_warning(msg):\n",
      "“installation of package ‘SummarizedExperiment’ had non-zero exit status”\n",
      "Warning message in .inet_warning(msg):\n",
      "“installation of package ‘genefilter’ had non-zero exit status”\n",
      "Warning message in .inet_warning(msg):\n",
      "“installation of package ‘geneplotter’ had non-zero exit status”\n",
      "Warning message in .inet_warning(msg):\n",
      "“installation of package ‘DESeq2’ had non-zero exit status”\n",
      "Updating HTML index of packages in '.Library'\n",
      "\n",
      "Making 'packages.html' ...\n",
      " done\n",
      "\n",
      "Old packages: 'askpass', 'backports', 'BH', 'BiocManager', 'bit', 'bit64',\n",
      "  'blob', 'boot', 'broom', 'callr', 'caret', 'class', 'cli', 'clipr',\n",
      "  'cluster', 'codetools', 'colorspace', 'crayon', 'curl', 'data.table', 'DBI',\n",
      "  'dbplyr', 'desc', 'devtools', 'dichromat', 'digest', 'dplyr', 'ellipsis',\n",
      "  'evaluate', 'fansi', 'farver', 'forcats', 'foreach', 'formatR', 'fs',\n",
      "  'generics', 'ggforce', 'ggplot2', 'ggpubr', 'ggrepel', 'ggsignif', 'gh',\n",
      "  'git2r', 'glmnet', 'glue', 'gower', 'haven', 'hexbin', 'highr', 'hms',\n",
      "  'htmltools', 'htmlwidgets', 'httpuv', 'httr', 'igraph', 'infotheo', 'ipred',\n",
      "  'IRdisplay', 'iterators', 'jsonlite', 'KernSmooth', 'knitr', 'labeling',\n",
      "  'later', 'lattice', 'lava', 'lubridate', 'magrittr', 'maps', 'markdown',\n",
      "  'MASS', 'Matrix', 'memoise', 'mgcv', 'mime', 'ModelMetrics', 'modelr',\n",
      "  'nlme', 'nnet', 'numDeriv', 'openssl', 'pbdZMQ', 'pillar', 'pkgbuild',\n",
      "  'pkgconfig', 'pkgload', 'plyr', 'polynom', 'prettyunits', 'processx',\n",
      "  'prodlim', 'progress', 'promises', 'ps', 'purrr', 'quantmod', 'R6',\n",
      "  'rcmdcheck', 'RColorBrewer', 'Rcpp', 'RcppArmadillo', 'RcppEigen', 'readr',\n",
      "  'readxl', 'recipes', 'remotes', 'repr', 'reprex', 'reshape2', 'rlang',\n",
      "  'rmarkdown', 'rpart', 'rprojroot', 'RSQLite', 'rstudioapi', 'rvest',\n",
      "  'scales', 'segmented', 'selectr', 'sessioninfo', 'shiny', 'spatial',\n",
      "  'SQUAREM', 'stringi', 'survival', 'sys', 'tibble', 'tictoc', 'tidyr',\n",
      "  'tidyselect', 'tidyverse', 'tinytex', 'TTR', 'tweenr', 'usethis', 'utf8',\n",
      "  'uuid', 'VGAM', 'whisker', 'withr', 'xfun', 'XML', 'xml2', 'xts', 'yaml',\n",
      "  'zoo'\n",
      "\n"
     ]
    }
   ],
   "source": [
    "if (!require(\"BiocManager\", quietly = TRUE))\n",
    "    install.packages(\"BiocManager\")\n",
    "\n",
    "BiocManager::install(\"DESeq2\")"
   ]
  },
  {
   "cell_type": "code",
   "execution_count": 2,
   "metadata": {},
   "outputs": [],
   "source": [
    "countData <- read.csv('atlas/merged_atlas_samples.csv', header = TRUE, sep = \",\")\n",
    "metaData <-  read.csv('atlas/samplesheet_merged.csv', header = TRUE, sep = \",\")"
   ]
  },
  {
   "cell_type": "code",
   "execution_count": null,
   "metadata": {},
   "outputs": [],
   "source": [
    "# countData <- read.csv('/Users/garyk/Documents/code/trom_analysis/atlas/pgclc_countmatrix_garyk.csv', header = TRUE, sep = \",\")\n",
    "# metaData <-  read.csv('/Users/garyk/Documents/code/trom_analysis/pgclc_samplesheet.csv', header = TRUE, sep = \",\")"
   ]
  },
  {
   "cell_type": "code",
   "execution_count": 3,
   "metadata": {},
   "outputs": [
    {
     "name": "stderr",
     "output_type": "stream",
     "text": [
      "  it appears that the last variable in the design formula, 'Condition',\n",
      "  has a factor level, 'Control', which is not the reference level. we recommend\n",
      "  to use factor(...,levels=...) or relevel() to set this as the reference level\n",
      "  before proceeding. for more information, please see the 'Note on factor levels'\n",
      "  in vignette('DESeq2').\n",
      "\n",
      "  Note: levels of factors in the design contain characters other than\n",
      "  letters, numbers, '_' and '.'. It is recommended (but not required) to use\n",
      "  only letters, numbers, and delimiters '_' or '.', as these are safe characters\n",
      "  for column names in R. [This is a message, not an warning or error]\n",
      "\n"
     ]
    }
   ],
   "source": [
    "dds <- DESeqDataSetFromMatrix(countData=countData, \n",
    "                              colData=metaData, \n",
    "                              design=~Condition, tidy = TRUE)"
   ]
  },
  {
   "cell_type": "code",
   "execution_count": 4,
   "metadata": {},
   "outputs": [],
   "source": [
    "dds$Condition <- relevel(dds$Condition, ref = \"Control\")"
   ]
  },
  {
   "cell_type": "code",
   "execution_count": null,
   "metadata": {},
   "outputs": [],
   "source": [
    "dds <- DESeq(dds)"
   ]
  },
  {
   "cell_type": "code",
   "execution_count": null,
   "metadata": {},
   "outputs": [],
   "source": [
    "#Save DDS in rds format. \n",
    "saveRDS(object = dds, file = 'merged_atlas.rds')"
   ]
  }
 ],
 "metadata": {
  "kernelspec": {
   "display_name": "R",
   "language": "R",
   "name": "ir"
  },
  "language_info": {
   "codemirror_mode": "r",
   "file_extension": ".r",
   "mimetype": "text/x-r-source",
   "name": "R",
   "pygments_lexer": "r",
   "version": "3.6.1"
  }
 },
 "nbformat": 4,
 "nbformat_minor": 2
}
